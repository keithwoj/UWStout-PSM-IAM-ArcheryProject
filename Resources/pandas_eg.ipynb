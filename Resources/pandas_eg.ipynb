{
 "cells": [
  {
   "cell_type": "markdown",
   "metadata": {},
   "source": [
    "# Introducing Pandas"
   ]
  },
  {
   "cell_type": "markdown",
   "metadata": {},
   "source": [
    "### Access a Website and Download a Data File (write to current directory)"
   ]
  },
  {
   "cell_type": "code",
   "execution_count": 25,
   "metadata": {},
   "outputs": [],
   "source": [
    "from urllib.request import urlopen"
   ]
  },
  {
   "cell_type": "markdown",
   "metadata": {},
   "source": [
    "######  Go to Zillow and download the comma separated file (CSV) for the summary data on the Zillow Home Value Index (ZHVI) for Metro Areas"
   ]
  },
  {
   "cell_type": "code",
   "execution_count": 26,
   "metadata": {
    "collapsed": true
   },
   "outputs": [],
   "source": [
    "url = 'http://files.zillowstatic.com/research/public/Metro/'"
   ]
  },
  {
   "cell_type": "code",
   "execution_count": 27,
   "metadata": {
    "collapsed": true
   },
   "outputs": [],
   "source": [
    "filename = 'Metro_Zhvi_Summary_AllHomes.csv'"
   ]
  },
  {
   "cell_type": "code",
   "execution_count": 28,
   "metadata": {
    "collapsed": true
   },
   "outputs": [],
   "source": [
    "downloaded = urlopen(url+filename)"
   ]
  },
  {
   "cell_type": "code",
   "execution_count": 29,
   "metadata": {
    "collapsed": true
   },
   "outputs": [],
   "source": [
    " with open(filename,'wb') as zf:\n",
    "        zf.write(downloaded.read())"
   ]
  },
  {
   "cell_type": "markdown",
   "metadata": {},
   "source": [
    "###### Explore the data structure using Pandas"
   ]
  },
  {
   "cell_type": "code",
   "execution_count": 57,
   "metadata": {
    "collapsed": true
   },
   "outputs": [],
   "source": [
    "import pandas as pd\n",
    "import numpy as np\n",
    "import matplotlib.pyplot as plt\n",
    "%matplotlib inline"
   ]
  },
  {
   "cell_type": "code",
   "execution_count": 31,
   "metadata": {},
   "outputs": [],
   "source": [
    "data = pd.read_csv(filename)"
   ]
  },
  {
   "cell_type": "code",
   "execution_count": 32,
   "metadata": {},
   "outputs": [
    {
     "data": {
      "text/plain": [
       "pandas.core.frame.DataFrame"
      ]
     },
     "execution_count": 32,
     "metadata": {},
     "output_type": "execute_result"
    }
   ],
   "source": [
    "type(data)"
   ]
  },
  {
   "cell_type": "code",
   "execution_count": 33,
   "metadata": {},
   "outputs": [
    {
     "data": {
      "text/plain": [
       "(539, 16)"
      ]
     },
     "execution_count": 33,
     "metadata": {},
     "output_type": "execute_result"
    }
   ],
   "source": [
    "data.shape"
   ]
  },
  {
   "cell_type": "code",
   "execution_count": 34,
   "metadata": {},
   "outputs": [
    {
     "data": {
      "text/plain": [
       "Index(['RegionID', 'Date', 'RegionName', 'State', 'SizeRank', 'Zhvi', 'MoM',\n",
       "       'QoQ', 'YoY', '5Year', '10Year', 'PeakMonth', 'PeakQuarter', 'PeakZHVI',\n",
       "       'PctFallFromPeak', 'LastTimeAtCurrZHVI'],\n",
       "      dtype='object')"
      ]
     },
     "execution_count": 34,
     "metadata": {},
     "output_type": "execute_result"
    }
   ],
   "source": [
    "data.columns"
   ]
  },
  {
   "cell_type": "code",
   "execution_count": 35,
   "metadata": {},
   "outputs": [
    {
     "data": {
      "text/html": [
       "<div>\n",
       "<table border=\"1\" class=\"dataframe\">\n",
       "  <thead>\n",
       "    <tr style=\"text-align: right;\">\n",
       "      <th></th>\n",
       "      <th>RegionID</th>\n",
       "      <th>Date</th>\n",
       "      <th>RegionName</th>\n",
       "      <th>State</th>\n",
       "      <th>SizeRank</th>\n",
       "      <th>Zhvi</th>\n",
       "      <th>MoM</th>\n",
       "      <th>QoQ</th>\n",
       "      <th>YoY</th>\n",
       "      <th>5Year</th>\n",
       "      <th>10Year</th>\n",
       "      <th>PeakMonth</th>\n",
       "      <th>PeakQuarter</th>\n",
       "      <th>PeakZHVI</th>\n",
       "      <th>PctFallFromPeak</th>\n",
       "      <th>LastTimeAtCurrZHVI</th>\n",
       "    </tr>\n",
       "  </thead>\n",
       "  <tbody>\n",
       "    <tr>\n",
       "      <th>0</th>\n",
       "      <td>102001</td>\n",
       "      <td>2015-12-31</td>\n",
       "      <td>United States</td>\n",
       "      <td>NaN</td>\n",
       "      <td>0</td>\n",
       "      <td>183500</td>\n",
       "      <td>0.002185</td>\n",
       "      <td>0.009351</td>\n",
       "      <td>0.040249</td>\n",
       "      <td>0.028302</td>\n",
       "      <td>-0.002738</td>\n",
       "      <td>2007-05</td>\n",
       "      <td>2007-Q2</td>\n",
       "      <td>196100</td>\n",
       "      <td>-0.064253</td>\n",
       "      <td>2005-09</td>\n",
       "    </tr>\n",
       "    <tr>\n",
       "      <th>1</th>\n",
       "      <td>394913</td>\n",
       "      <td>2015-12-31</td>\n",
       "      <td>New York, NY</td>\n",
       "      <td>NY</td>\n",
       "      <td>1</td>\n",
       "      <td>381200</td>\n",
       "      <td>0.003158</td>\n",
       "      <td>0.006602</td>\n",
       "      <td>0.017619</td>\n",
       "      <td>0.010108</td>\n",
       "      <td>-0.012885</td>\n",
       "      <td>2006-09</td>\n",
       "      <td>2006-Q3</td>\n",
       "      <td>446000</td>\n",
       "      <td>-0.145291</td>\n",
       "      <td>2004-10</td>\n",
       "    </tr>\n",
       "    <tr>\n",
       "      <th>2</th>\n",
       "      <td>753899</td>\n",
       "      <td>2015-12-31</td>\n",
       "      <td>Los Angeles-Long Beach-Anaheim, CA</td>\n",
       "      <td>CA</td>\n",
       "      <td>2</td>\n",
       "      <td>554700</td>\n",
       "      <td>0.003800</td>\n",
       "      <td>0.011488</td>\n",
       "      <td>0.060612</td>\n",
       "      <td>0.059504</td>\n",
       "      <td>-0.006847</td>\n",
       "      <td>2006-07</td>\n",
       "      <td>2006-Q3</td>\n",
       "      <td>610600</td>\n",
       "      <td>-0.091549</td>\n",
       "      <td>2005-07</td>\n",
       "    </tr>\n",
       "    <tr>\n",
       "      <th>3</th>\n",
       "      <td>394463</td>\n",
       "      <td>2015-12-31</td>\n",
       "      <td>Chicago, IL</td>\n",
       "      <td>IL</td>\n",
       "      <td>3</td>\n",
       "      <td>193000</td>\n",
       "      <td>0.002077</td>\n",
       "      <td>0.006781</td>\n",
       "      <td>0.026050</td>\n",
       "      <td>0.005370</td>\n",
       "      <td>-0.020781</td>\n",
       "      <td>2007-03</td>\n",
       "      <td>2007-Q1</td>\n",
       "      <td>245800</td>\n",
       "      <td>-0.214809</td>\n",
       "      <td>2002-11</td>\n",
       "    </tr>\n",
       "    <tr>\n",
       "      <th>4</th>\n",
       "      <td>394514</td>\n",
       "      <td>2015-12-31</td>\n",
       "      <td>Dallas-Fort Worth, TX</td>\n",
       "      <td>TX</td>\n",
       "      <td>4</td>\n",
       "      <td>177200</td>\n",
       "      <td>0.006818</td>\n",
       "      <td>0.022504</td>\n",
       "      <td>0.140283</td>\n",
       "      <td>0.062279</td>\n",
       "      <td>0.022105</td>\n",
       "      <td>2015-12</td>\n",
       "      <td>2015-Q4</td>\n",
       "      <td>177200</td>\n",
       "      <td>0.000000</td>\n",
       "      <td>2015-12</td>\n",
       "    </tr>\n",
       "  </tbody>\n",
       "</table>\n",
       "</div>"
      ],
      "text/plain": [
       "   RegionID        Date                          RegionName State  SizeRank  \\\n",
       "0    102001  2015-12-31                       United States   NaN         0   \n",
       "1    394913  2015-12-31                        New York, NY    NY         1   \n",
       "2    753899  2015-12-31  Los Angeles-Long Beach-Anaheim, CA    CA         2   \n",
       "3    394463  2015-12-31                         Chicago, IL    IL         3   \n",
       "4    394514  2015-12-31               Dallas-Fort Worth, TX    TX         4   \n",
       "\n",
       "     Zhvi       MoM       QoQ       YoY     5Year    10Year PeakMonth  \\\n",
       "0  183500  0.002185  0.009351  0.040249  0.028302 -0.002738   2007-05   \n",
       "1  381200  0.003158  0.006602  0.017619  0.010108 -0.012885   2006-09   \n",
       "2  554700  0.003800  0.011488  0.060612  0.059504 -0.006847   2006-07   \n",
       "3  193000  0.002077  0.006781  0.026050  0.005370 -0.020781   2007-03   \n",
       "4  177200  0.006818  0.022504  0.140283  0.062279  0.022105   2015-12   \n",
       "\n",
       "  PeakQuarter  PeakZHVI  PctFallFromPeak LastTimeAtCurrZHVI  \n",
       "0     2007-Q2    196100        -0.064253            2005-09  \n",
       "1     2006-Q3    446000        -0.145291            2004-10  \n",
       "2     2006-Q3    610600        -0.091549            2005-07  \n",
       "3     2007-Q1    245800        -0.214809            2002-11  \n",
       "4     2015-Q4    177200         0.000000            2015-12  "
      ]
     },
     "execution_count": 35,
     "metadata": {},
     "output_type": "execute_result"
    }
   ],
   "source": [
    "data.head()"
   ]
  },
  {
   "cell_type": "markdown",
   "metadata": {},
   "source": [
    "###### First Row in Dataframe"
   ]
  },
  {
   "cell_type": "code",
   "execution_count": 36,
   "metadata": {},
   "outputs": [
    {
     "data": {
      "text/html": [
       "<div>\n",
       "<table border=\"1\" class=\"dataframe\">\n",
       "  <thead>\n",
       "    <tr style=\"text-align: right;\">\n",
       "      <th></th>\n",
       "      <th>RegionID</th>\n",
       "      <th>Date</th>\n",
       "      <th>RegionName</th>\n",
       "      <th>State</th>\n",
       "      <th>SizeRank</th>\n",
       "      <th>Zhvi</th>\n",
       "      <th>MoM</th>\n",
       "      <th>QoQ</th>\n",
       "      <th>YoY</th>\n",
       "      <th>5Year</th>\n",
       "      <th>10Year</th>\n",
       "      <th>PeakMonth</th>\n",
       "      <th>PeakQuarter</th>\n",
       "      <th>PeakZHVI</th>\n",
       "      <th>PctFallFromPeak</th>\n",
       "      <th>LastTimeAtCurrZHVI</th>\n",
       "    </tr>\n",
       "  </thead>\n",
       "  <tbody>\n",
       "    <tr>\n",
       "      <th>0</th>\n",
       "      <td>102001</td>\n",
       "      <td>2015-12-31</td>\n",
       "      <td>United States</td>\n",
       "      <td>NaN</td>\n",
       "      <td>0</td>\n",
       "      <td>183500</td>\n",
       "      <td>0.002185</td>\n",
       "      <td>0.009351</td>\n",
       "      <td>0.040249</td>\n",
       "      <td>0.028302</td>\n",
       "      <td>-0.002738</td>\n",
       "      <td>2007-05</td>\n",
       "      <td>2007-Q2</td>\n",
       "      <td>196100</td>\n",
       "      <td>-0.064253</td>\n",
       "      <td>2005-09</td>\n",
       "    </tr>\n",
       "  </tbody>\n",
       "</table>\n",
       "</div>"
      ],
      "text/plain": [
       "   RegionID        Date     RegionName State  SizeRank    Zhvi       MoM  \\\n",
       "0    102001  2015-12-31  United States   NaN         0  183500  0.002185   \n",
       "\n",
       "        QoQ       YoY     5Year    10Year PeakMonth PeakQuarter  PeakZHVI  \\\n",
       "0  0.009351  0.040249  0.028302 -0.002738   2007-05     2007-Q2    196100   \n",
       "\n",
       "   PctFallFromPeak LastTimeAtCurrZHVI  \n",
       "0        -0.064253            2005-09  "
      ]
     },
     "execution_count": 36,
     "metadata": {},
     "output_type": "execute_result"
    }
   ],
   "source": [
    "data[:1]"
   ]
  },
  {
   "cell_type": "markdown",
   "metadata": {},
   "source": [
    "###### Last Row in Dataframe"
   ]
  },
  {
   "cell_type": "code",
   "execution_count": 37,
   "metadata": {},
   "outputs": [
    {
     "data": {
      "text/html": [
       "<div>\n",
       "<table border=\"1\" class=\"dataframe\">\n",
       "  <thead>\n",
       "    <tr style=\"text-align: right;\">\n",
       "      <th></th>\n",
       "      <th>RegionID</th>\n",
       "      <th>Date</th>\n",
       "      <th>RegionName</th>\n",
       "      <th>State</th>\n",
       "      <th>SizeRank</th>\n",
       "      <th>Zhvi</th>\n",
       "      <th>MoM</th>\n",
       "      <th>QoQ</th>\n",
       "      <th>YoY</th>\n",
       "      <th>5Year</th>\n",
       "      <th>10Year</th>\n",
       "      <th>PeakMonth</th>\n",
       "      <th>PeakQuarter</th>\n",
       "      <th>PeakZHVI</th>\n",
       "      <th>PctFallFromPeak</th>\n",
       "      <th>LastTimeAtCurrZHVI</th>\n",
       "    </tr>\n",
       "  </thead>\n",
       "  <tbody>\n",
       "    <tr>\n",
       "      <th>538</th>\n",
       "      <td>394743</td>\n",
       "      <td>2015-12-31</td>\n",
       "      <td>Ketchikan, AK</td>\n",
       "      <td>AK</td>\n",
       "      <td>538</td>\n",
       "      <td>229000</td>\n",
       "      <td>-0.006938</td>\n",
       "      <td>-0.032531</td>\n",
       "      <td>-0.019272</td>\n",
       "      <td>0.004156</td>\n",
       "      <td>NaN</td>\n",
       "      <td>2015-04</td>\n",
       "      <td>2015-Q2</td>\n",
       "      <td>241800</td>\n",
       "      <td>-0.052936</td>\n",
       "      <td>2014-11</td>\n",
       "    </tr>\n",
       "  </tbody>\n",
       "</table>\n",
       "</div>"
      ],
      "text/plain": [
       "     RegionID        Date     RegionName State  SizeRank    Zhvi       MoM  \\\n",
       "538    394743  2015-12-31  Ketchikan, AK    AK       538  229000 -0.006938   \n",
       "\n",
       "          QoQ       YoY     5Year  10Year PeakMonth PeakQuarter  PeakZHVI  \\\n",
       "538 -0.032531 -0.019272  0.004156     NaN   2015-04     2015-Q2    241800   \n",
       "\n",
       "     PctFallFromPeak LastTimeAtCurrZHVI  \n",
       "538        -0.052936            2014-11  "
      ]
     },
     "execution_count": 37,
     "metadata": {},
     "output_type": "execute_result"
    }
   ],
   "source": [
    "data[-1:]"
   ]
  },
  {
   "cell_type": "markdown",
   "metadata": {},
   "source": [
    "###### 33rd Row in Dataframe"
   ]
  },
  {
   "cell_type": "code",
   "execution_count": 38,
   "metadata": {},
   "outputs": [
    {
     "data": {
      "text/html": [
       "<div>\n",
       "<table border=\"1\" class=\"dataframe\">\n",
       "  <thead>\n",
       "    <tr style=\"text-align: right;\">\n",
       "      <th></th>\n",
       "      <th>RegionID</th>\n",
       "      <th>Date</th>\n",
       "      <th>RegionName</th>\n",
       "      <th>State</th>\n",
       "      <th>SizeRank</th>\n",
       "      <th>Zhvi</th>\n",
       "      <th>MoM</th>\n",
       "      <th>QoQ</th>\n",
       "      <th>YoY</th>\n",
       "      <th>5Year</th>\n",
       "      <th>10Year</th>\n",
       "      <th>PeakMonth</th>\n",
       "      <th>PeakQuarter</th>\n",
       "      <th>PeakZHVI</th>\n",
       "      <th>PctFallFromPeak</th>\n",
       "      <th>LastTimeAtCurrZHVI</th>\n",
       "    </tr>\n",
       "  </thead>\n",
       "  <tbody>\n",
       "    <tr>\n",
       "      <th>33</th>\n",
       "      <td>394705</td>\n",
       "      <td>2015-12-31</td>\n",
       "      <td>Indianapolis, IN</td>\n",
       "      <td>IN</td>\n",
       "      <td>33</td>\n",
       "      <td>130100</td>\n",
       "      <td>0.002311</td>\n",
       "      <td>0.00931</td>\n",
       "      <td>0.036653</td>\n",
       "      <td>0.017996</td>\n",
       "      <td>-0.004425</td>\n",
       "      <td>2003-11</td>\n",
       "      <td>2003-Q4</td>\n",
       "      <td>139900</td>\n",
       "      <td>-0.07005</td>\n",
       "      <td>NaN</td>\n",
       "    </tr>\n",
       "  </tbody>\n",
       "</table>\n",
       "</div>"
      ],
      "text/plain": [
       "    RegionID        Date        RegionName State  SizeRank    Zhvi       MoM  \\\n",
       "33    394705  2015-12-31  Indianapolis, IN    IN        33  130100  0.002311   \n",
       "\n",
       "        QoQ       YoY     5Year    10Year PeakMonth PeakQuarter  PeakZHVI  \\\n",
       "33  0.00931  0.036653  0.017996 -0.004425   2003-11     2003-Q4    139900   \n",
       "\n",
       "    PctFallFromPeak LastTimeAtCurrZHVI  \n",
       "33         -0.07005                NaN  "
      ]
     },
     "execution_count": 38,
     "metadata": {},
     "output_type": "execute_result"
    }
   ],
   "source": [
    "data[33:34]"
   ]
  },
  {
   "cell_type": "markdown",
   "metadata": {},
   "source": [
    "###### Sometimes you simply want to see a subset of the data, so you perform the subsetting using boolean indexing"
   ]
  },
  {
   "cell_type": "code",
   "execution_count": 39,
   "metadata": {},
   "outputs": [],
   "source": [
    "results = data[(data.State == 'WI') & (data.Zhvi > 100000)]"
   ]
  },
  {
   "cell_type": "code",
   "execution_count": 40,
   "metadata": {},
   "outputs": [
    {
     "data": {
      "text/plain": [
       "39       Milwaukee, WI\n",
       "85         Madison, WI\n",
       "150      Green Bay, WI\n",
       "187       Appleton, WI\n",
       "210         Racine, WI\n",
       "228        Oshkosh, WI\n",
       "233     Eau Claire, WI\n",
       "273         Wausau, WI\n",
       "274      La Crosse, WI\n",
       "294      Sheboygan, WI\n",
       "318     Whitewater, WI\n",
       "319    Fond du Lac, WI\n",
       "348     Beaver Dam, WI\n",
       "354      Watertown, WI\n",
       "361      Manitowoc, WI\n",
       "401        Baraboo, WI\n",
       "Name: RegionName, dtype: object"
      ]
     },
     "execution_count": 40,
     "metadata": {},
     "output_type": "execute_result"
    }
   ],
   "source": [
    "results['RegionName']"
   ]
  },
  {
   "cell_type": "markdown",
   "metadata": {},
   "source": [
    "###### Now read a data set directrly from a website, without saving it to a directory (you can if you like using the technique above). This data does not have a header so you need to define the column titles separately. Sometimes data sets come with instructions and this information will be contained within them."
   ]
  },
  {
   "cell_type": "code",
   "execution_count": 41,
   "metadata": {},
   "outputs": [],
   "source": [
    "df = pd.read_csv('https://archive.ics.uci.edu/ml/machine-learning-databases/housing/housing.data',header=None,sep='\\s+')"
   ]
  },
  {
   "cell_type": "code",
   "execution_count": 42,
   "metadata": {},
   "outputs": [],
   "source": [
    "df.columns = ['CRIM','ZN','INDUS','CHAS','NOX','RM','AGE','DIS','RAD','TAX','PTRATIO','B','LSTAT','MEDV']"
   ]
  },
  {
   "cell_type": "code",
   "execution_count": 43,
   "metadata": {},
   "outputs": [
    {
     "data": {
      "text/html": [
       "<div>\n",
       "<table border=\"1\" class=\"dataframe\">\n",
       "  <thead>\n",
       "    <tr style=\"text-align: right;\">\n",
       "      <th></th>\n",
       "      <th>CRIM</th>\n",
       "      <th>ZN</th>\n",
       "      <th>INDUS</th>\n",
       "      <th>CHAS</th>\n",
       "      <th>NOX</th>\n",
       "      <th>RM</th>\n",
       "      <th>AGE</th>\n",
       "      <th>DIS</th>\n",
       "      <th>RAD</th>\n",
       "      <th>TAX</th>\n",
       "      <th>PTRATIO</th>\n",
       "      <th>B</th>\n",
       "      <th>LSTAT</th>\n",
       "      <th>MEDV</th>\n",
       "    </tr>\n",
       "  </thead>\n",
       "  <tbody>\n",
       "    <tr>\n",
       "      <th>0</th>\n",
       "      <td>0.00632</td>\n",
       "      <td>18</td>\n",
       "      <td>2.31</td>\n",
       "      <td>0</td>\n",
       "      <td>0.538</td>\n",
       "      <td>6.575</td>\n",
       "      <td>65.2</td>\n",
       "      <td>4.0900</td>\n",
       "      <td>1</td>\n",
       "      <td>296</td>\n",
       "      <td>15.3</td>\n",
       "      <td>396.90</td>\n",
       "      <td>4.98</td>\n",
       "      <td>24.0</td>\n",
       "    </tr>\n",
       "    <tr>\n",
       "      <th>1</th>\n",
       "      <td>0.02731</td>\n",
       "      <td>0</td>\n",
       "      <td>7.07</td>\n",
       "      <td>0</td>\n",
       "      <td>0.469</td>\n",
       "      <td>6.421</td>\n",
       "      <td>78.9</td>\n",
       "      <td>4.9671</td>\n",
       "      <td>2</td>\n",
       "      <td>242</td>\n",
       "      <td>17.8</td>\n",
       "      <td>396.90</td>\n",
       "      <td>9.14</td>\n",
       "      <td>21.6</td>\n",
       "    </tr>\n",
       "    <tr>\n",
       "      <th>2</th>\n",
       "      <td>0.02729</td>\n",
       "      <td>0</td>\n",
       "      <td>7.07</td>\n",
       "      <td>0</td>\n",
       "      <td>0.469</td>\n",
       "      <td>7.185</td>\n",
       "      <td>61.1</td>\n",
       "      <td>4.9671</td>\n",
       "      <td>2</td>\n",
       "      <td>242</td>\n",
       "      <td>17.8</td>\n",
       "      <td>392.83</td>\n",
       "      <td>4.03</td>\n",
       "      <td>34.7</td>\n",
       "    </tr>\n",
       "    <tr>\n",
       "      <th>3</th>\n",
       "      <td>0.03237</td>\n",
       "      <td>0</td>\n",
       "      <td>2.18</td>\n",
       "      <td>0</td>\n",
       "      <td>0.458</td>\n",
       "      <td>6.998</td>\n",
       "      <td>45.8</td>\n",
       "      <td>6.0622</td>\n",
       "      <td>3</td>\n",
       "      <td>222</td>\n",
       "      <td>18.7</td>\n",
       "      <td>394.63</td>\n",
       "      <td>2.94</td>\n",
       "      <td>33.4</td>\n",
       "    </tr>\n",
       "    <tr>\n",
       "      <th>4</th>\n",
       "      <td>0.06905</td>\n",
       "      <td>0</td>\n",
       "      <td>2.18</td>\n",
       "      <td>0</td>\n",
       "      <td>0.458</td>\n",
       "      <td>7.147</td>\n",
       "      <td>54.2</td>\n",
       "      <td>6.0622</td>\n",
       "      <td>3</td>\n",
       "      <td>222</td>\n",
       "      <td>18.7</td>\n",
       "      <td>396.90</td>\n",
       "      <td>5.33</td>\n",
       "      <td>36.2</td>\n",
       "    </tr>\n",
       "  </tbody>\n",
       "</table>\n",
       "</div>"
      ],
      "text/plain": [
       "      CRIM  ZN  INDUS  CHAS    NOX     RM   AGE     DIS  RAD  TAX  PTRATIO  \\\n",
       "0  0.00632  18   2.31     0  0.538  6.575  65.2  4.0900    1  296     15.3   \n",
       "1  0.02731   0   7.07     0  0.469  6.421  78.9  4.9671    2  242     17.8   \n",
       "2  0.02729   0   7.07     0  0.469  7.185  61.1  4.9671    2  242     17.8   \n",
       "3  0.03237   0   2.18     0  0.458  6.998  45.8  6.0622    3  222     18.7   \n",
       "4  0.06905   0   2.18     0  0.458  7.147  54.2  6.0622    3  222     18.7   \n",
       "\n",
       "        B  LSTAT  MEDV  \n",
       "0  396.90   4.98  24.0  \n",
       "1  396.90   9.14  21.6  \n",
       "2  392.83   4.03  34.7  \n",
       "3  394.63   2.94  33.4  \n",
       "4  396.90   5.33  36.2  "
      ]
     },
     "execution_count": 43,
     "metadata": {},
     "output_type": "execute_result"
    }
   ],
   "source": [
    "df.head()"
   ]
  },
  {
   "cell_type": "markdown",
   "metadata": {},
   "source": [
    "## Ordinary Least Squares (OLS) Linear Regression Model"
   ]
  },
  {
   "cell_type": "markdown",
   "metadata": {},
   "source": [
    "###### To fit a linear regression model, we are interested in thos features that have a high correlation with our target variable MEDV. Notice that LSTAT is highly negatively correlated (and the pairplot reveals the relationship is nonlinear), so we will ignore it in our OLS model. Instead, consider that the correlation between RM and MEDV is relatively high the scatter plot reveals a linear relationship (for the most part). We conclude that RM seems to be a good choice for an exploratory variable to introduce the concepts of an OLS linear regression model."
   ]
  },
  {
   "cell_type": "code",
   "execution_count": 44,
   "metadata": {
    "collapsed": true
   },
   "outputs": [],
   "source": [
    "X = df[['RM']].values\n",
    "y = df['MEDV'].values"
   ]
  },
  {
   "cell_type": "code",
   "execution_count": 45,
   "metadata": {
    "collapsed": true
   },
   "outputs": [],
   "source": [
    "from sklearn.linear_model import LinearRegression"
   ]
  },
  {
   "cell_type": "code",
   "execution_count": 46,
   "metadata": {},
   "outputs": [
    {
     "name": "stdout",
     "output_type": "stream",
     "text": [
      "Slope: 9.102\n",
      "Intercept: -34.671\n"
     ]
    }
   ],
   "source": [
    "slr = LinearRegression()\n",
    "slr.fit(X, y)\n",
    "y_pred = slr.predict(X)\n",
    "print('Slope: %.3f' % slr.coef_[0])\n",
    "print('Intercept: %.3f' % slr.intercept_)"
   ]
  },
  {
   "cell_type": "code",
   "execution_count": 47,
   "metadata": {},
   "outputs": [],
   "source": [
    "def lin_regplot(X, y, model):\n",
    "    plt.scatter(X, y, c='lightblue')\n",
    "    plt.plot(X, model.predict(X), color='red', linewidth=2)    \n",
    "    return "
   ]
  },
  {
   "cell_type": "code",
   "execution_count": 53,
   "metadata": {},
   "outputs": [
    {
     "data": {
      "image/png": "[encoded data removed]",
      "text/plain": [
       "<matplotlib.figure.Figure at 0xbe92278>"
      ]
     },
     "metadata": {},
     "output_type": "display_data"
    }
   ],
   "source": [
    "lin_regplot(X, y, slr)\n",
    "plt.xlabel('Average number of rooms [RM]')\n",
    "plt.ylabel('Price in $1000\\'s [MEDV]')\n",
    "plt.tight_layout()\n",
    "plt.show()\n",
    "#plt.savefig('scikit_lr_fit.png', dpi=300)"
   ]
  },
  {
   "cell_type": "code",
   "execution_count": 54,
   "metadata": {},
   "outputs": [
    {
     "data": {
      "text/plain": [
       "array([ 35.87072383])"
      ]
     },
     "execution_count": 54,
     "metadata": {},
     "output_type": "execute_result"
    }
   ],
   "source": [
    "slr.predict(7.75)"
   ]
  },
  {
   "cell_type": "code",
   "execution_count": 55,
   "metadata": {},
   "outputs": [
    {
     "data": {
      "text/plain": [
       "array([-0.5377121])"
      ]
     },
     "execution_count": 55,
     "metadata": {},
     "output_type": "execute_result"
    }
   ],
   "source": [
    "slr.predict(3.75)"
   ]
  },
  {
   "cell_type": "markdown",
   "metadata": {},
   "source": [
    "###### What number of rooms yields $30K?"
   ]
  },
  {
   "cell_type": "markdown",
   "metadata": {},
   "source": [
    "###### Inverse Interpolation Answer"
   ]
  },
  {
   "cell_type": "code",
   "execution_count": 58,
   "metadata": {},
   "outputs": [
    {
     "data": {
      "text/plain": [
       "6.03"
      ]
     },
     "execution_count": 58,
     "metadata": {},
     "output_type": "execute_result"
    }
   ],
   "source": [
    "np.interp(30,y,X[:,0])"
   ]
  },
  {
   "cell_type": "markdown",
   "metadata": {},
   "source": [
    "###### What does the simple linear regression model think?"
   ]
  },
  {
   "cell_type": "code",
   "execution_count": 59,
   "metadata": {},
   "outputs": [
    {
     "data": {
      "text/plain": [
       "array([ 20.21509638])"
      ]
     },
     "execution_count": 59,
     "metadata": {},
     "output_type": "execute_result"
    }
   ],
   "source": [
    "slr.predict(6.03)"
   ]
  },
  {
   "cell_type": "markdown",
   "metadata": {},
   "source": [
    "###### Set up a boolean vector for boolean indexing:"
   ]
  },
  {
   "cell_type": "code",
   "execution_count": 60,
   "metadata": {},
   "outputs": [],
   "source": [
    "bvec = abs(y-30)==min(abs(y-30))"
   ]
  },
  {
   "cell_type": "markdown",
   "metadata": {},
   "source": [
    "######  Here's what the data reveals:"
   ]
  },
  {
   "cell_type": "code",
   "execution_count": 61,
   "metadata": {},
   "outputs": [
    {
     "data": {
      "text/plain": [
       "array([ 29.9,  30.1,  30.1,  30.1])"
      ]
     },
     "execution_count": 61,
     "metadata": {},
     "output_type": "execute_result"
    }
   ],
   "source": [
    "y[bvec]"
   ]
  },
  {
   "cell_type": "code",
   "execution_count": 62,
   "metadata": {},
   "outputs": [
    {
     "name": "stdout",
     "output_type": "stream",
     "text": [
      "[[ 6.86 ]\n",
      " [ 6.618]\n",
      " [ 6.842]\n",
      " [ 6.728]]\n"
     ]
    }
   ],
   "source": [
    "xpredict = X[bvec];print(xpredict)"
   ]
  },
  {
   "cell_type": "markdown",
   "metadata": {},
   "source": [
    "###### Here's what the model thinks:"
   ]
  },
  {
   "cell_type": "code",
   "execution_count": 63,
   "metadata": {},
   "outputs": [
    {
     "data": {
      "text/plain": [
       "array([ 27.08718866])"
      ]
     },
     "execution_count": 63,
     "metadata": {},
     "output_type": "execute_result"
    }
   ],
   "source": [
    "slr.predict(np.median(xpredict))"
   ]
  },
  {
   "cell_type": "code",
   "execution_count": 64,
   "metadata": {},
   "outputs": [
    {
     "data": {
      "text/plain": [
       "array([ 26.87784015])"
      ]
     },
     "execution_count": 64,
     "metadata": {},
     "output_type": "execute_result"
    }
   ],
   "source": [
    "slr.predict(np.average(xpredict))"
   ]
  },
  {
   "cell_type": "code",
   "execution_count": 65,
   "metadata": {},
   "outputs": [
    {
     "data": {
      "text/plain": [
       "array([ 26.66849165])"
      ]
     },
     "execution_count": 65,
     "metadata": {},
     "output_type": "execute_result"
    }
   ],
   "source": [
    "slr.predict(0.5*(xpredict.min()+xpredict.max()))  # Midpoint between max and min"
   ]
  },
  {
   "cell_type": "code",
   "execution_count": 66,
   "metadata": {},
   "outputs": [
    {
     "data": {
      "text/plain": [
       "array([ 30.00441459])"
      ]
     },
     "execution_count": 66,
     "metadata": {},
     "output_type": "execute_result"
    }
   ],
   "source": [
    "slr.predict(7.1055) # Guess and check"
   ]
  },
  {
   "cell_type": "code",
   "execution_count": null,
   "metadata": {
    "collapsed": true
   },
   "outputs": [],
   "source": []
  }
 ],
 "metadata": {
  "kernelspec": {
   "display_name": "Python 3",
   "language": "python",
   "name": "python3"
  },
  "language_info": {
   "codemirror_mode": {
    "name": "ipython",
    "version": 3
   },
   "file_extension": ".py",
   "mimetype": "text/x-python",
   "name": "python",
   "nbconvert_exporter": "python",
   "pygments_lexer": "ipython3",
   "version": "3.6.1"
  }
 },
 "nbformat": 4,
 "nbformat_minor": 1
}
